{
 "cells": [
  {
   "cell_type": "markdown",
   "id": "a87381ff",
   "metadata": {
    "colab_type": "text",
    "id": "0a8IYAJUshu1"
   },
   "source": [
    "# Checkpoint 0 "
   ]
  },
  {
   "cell_type": "markdown",
   "id": "fdcda2ab",
   "metadata": {},
   "source": [
    "These exercises are a mix of Python and Pandas practice. Most should be no more than a few lines of code! "
   ]
  },
  {
   "cell_type": "code",
   "execution_count": null,
   "id": "8677080d",
   "metadata": {
    "colab": {},
    "colab_type": "code",
    "id": "Jo6wuTgkshu1"
   },
   "outputs": [],
   "source": [
    "# here is a Python list:\n",
    "\n",
    "a = [1, 2, 3, 4, 5, 6]\n"
   ]
  },
  {
   "cell_type": "code",
   "execution_count": null,
   "id": "779d96b1",
   "metadata": {},
   "outputs": [],
   "source": [
    "# get a list containing the last 3 elements of a\n",
    "# Yes, you can just type out [4, 5, 6] but we really want to see you demonstrate you know how to do that in Python\n",
    "a[-3:]"
   ]
  },
  {
   "cell_type": "code",
   "execution_count": null,
   "id": "b6a54def",
   "metadata": {},
   "outputs": [],
   "source": [
    "# create a list of numbers from 1 to 100\n",
    "numbers = list(range(1,101))\n",
    "numbers"
   ]
  },
  {
   "cell_type": "code",
   "execution_count": null,
   "id": "487873ac",
   "metadata": {},
   "outputs": [],
   "source": [
    "# now get a list with only the even numbers between 1 and 100\n",
    "# you may or may not make use of the list you made in the last cell\n",
    "evens = numbers[1::2]\n",
    "evens"
   ]
  },
  {
   "cell_type": "code",
   "execution_count": null,
   "id": "3d4bb5dd",
   "metadata": {},
   "outputs": [],
   "source": [
    "# write a function that takes two numbers as arguments\n",
    "# and returns the first number divided by the second\n",
    "def divide(num1, num2):\n",
    "    return num1/num2"
   ]
  },
  {
   "cell_type": "code",
   "execution_count": null,
   "id": "b93669fa",
   "metadata": {},
   "outputs": [],
   "source": [
    "# write a function that takes a string as input\n",
    "# and return that string in all caps\n",
    "def capital(input):\n",
    "    return input.upper()"
   ]
  },
  {
   "cell_type": "code",
   "execution_count": null,
   "id": "f55df04e",
   "metadata": {},
   "outputs": [],
   "source": [
    "# optional challenge - fizzbuzz\n",
    "# you will need to use both iteration and control flow \n",
    "# go through all numbers from 1 to 100 in order\n",
    "# if the number is a multiple of 3, print fizz\n",
    "# if the number is a multiple of 5, print buzz\n",
    "# if the number is a multiple of 3 and 5, print fizzbuzz and NOTHING ELSE\n",
    "# if the number is neither a multiple of 3 nor a multiple of 5, print the number\n",
    "for n in range(1,101):\n",
    "    if n%15==0:\n",
    "        print('fizzbuzz')\n",
    "    elif n%3==0:\n",
    "        print('fizz')\n",
    "    elif n%5==0:\n",
    "        print('buzz')\n",
    "    else:\n",
    "        print(n)"
   ]
  },
  {
   "cell_type": "code",
   "execution_count": null,
   "id": "78aace0b",
   "metadata": {},
   "outputs": [],
   "source": [
    "# create a dictionary that reflects the following menu pricing (taken from Ahmo's)\n",
    "# Gyro: $9 \n",
    "# Burger: $10,000,000\n",
    "# Greek Salad: $8\n",
    "# Philly Steak: $10\n",
    "ahmos_menu = {\"Gyro\":9.00, \"Burger\":10000000.00, \"Greek Salad\":8.00, \"Philly Steak\":10.00}"
   ]
  },
  {
   "cell_type": "code",
   "execution_count": null,
   "id": "fc0cd080",
   "metadata": {
    "colab": {},
    "colab_type": "code",
    "id": "WzCQ5HOJshvA"
   },
   "outputs": [],
   "source": [
    "# load in the \"starbucks.csv\" dataset\n",
    "# refer to how we read the cereal.csv dataset in the tutorial\n",
    "import pandas as pd\n",
    "df = pd.read_csv(\"../data/starbucks.csv\")"
   ]
  },
  {
   "cell_type": "code",
   "execution_count": null,
   "id": "68210b5f",
   "metadata": {},
   "outputs": [],
   "source": [
    "# output the calories, sugars, and protein columns only of every 40th row. \n",
    "df.iloc[::40][['calories', 'sugars', 'protein']]"
   ]
  },
  {
   "cell_type": "code",
   "execution_count": null,
   "id": "ac0f0c12",
   "metadata": {},
   "outputs": [],
   "source": [
    "# select all rows with more than and including 400 calories\n",
    "df[df['calories'] >= 400]"
   ]
  },
  {
   "cell_type": "code",
   "execution_count": null,
   "id": "ee8f8241",
   "metadata": {},
   "outputs": [],
   "source": [
    "# select all rows whose vitamin c content is higher than the iron content\n",
    "df[df['vitamin c'] > df['iron']]"
   ]
  },
  {
   "cell_type": "code",
   "execution_count": null,
   "id": "d4de48bb",
   "metadata": {},
   "outputs": [],
   "source": [
    "# create a new column containing the caffeine per calories of each drink\n",
    "df[\"caffeine_per_calorie\"] = df[\"caffeine\"] / df[\"calories\"]"
   ]
  },
  {
   "cell_type": "code",
   "execution_count": null,
   "id": "d305bcb2",
   "metadata": {
    "colab": {},
    "colab_type": "code",
    "id": "rIoxaSxHshvB"
   },
   "outputs": [],
   "source": [
    "# what is the average calorie across all items?\n",
    "df['calories'].mean()"
   ]
  },
  {
   "cell_type": "code",
   "execution_count": null,
   "id": "21acacc3",
   "metadata": {
    "colab": {},
    "colab_type": "code",
    "id": "ABX7i49FshvD"
   },
   "outputs": [],
   "source": [
    "# how many different categories of beverages are there?\n",
    "len(df['calories'].unique())"
   ]
  },
  {
   "cell_type": "code",
   "execution_count": null,
   "id": "bff66614",
   "metadata": {
    "colab": {},
    "colab_type": "code",
    "id": "P9QatZAzshvE"
   },
   "outputs": [],
   "source": [
    "# what is the average # calories for each beverage category?\n",
    "df.groupby('beverage_category')['calories'].mean()"
   ]
  },
  {
   "cell_type": "code",
   "execution_count": null,
   "id": "bbbf1e2d",
   "metadata": {},
   "outputs": [],
   "source": [
    "# plot the distribution of the number of calories in drinks with a histogram\n",
    "df[\"calories\"].plot.hist(fill=False, hatch='o.', edgecolor='pink', linewidth=3, alpha=1, title=\"Calorie Distribution\")"
   ]
  },
  {
   "cell_type": "code",
   "execution_count": null,
   "id": "66d57e50",
   "metadata": {},
   "outputs": [],
   "source": [
    "# plot calories against total fat with a scatterplot\n",
    "df.plot.scatter(x=\"calories\", y=\"total fat\", color='pink', alpha=1, title=\"Calories Vs Total Fat\")"
   ]
  }
 ],
 "metadata": {
  "kernelspec": {
   "display_name": "Python 3 (ipykernel)",
   "language": "python",
   "name": "python3"
  },
  "language_info": {
   "codemirror_mode": {
    "name": "ipython",
    "version": 3
   },
   "file_extension": ".py",
   "mimetype": "text/x-python",
   "name": "python",
   "nbconvert_exporter": "python",
   "pygments_lexer": "ipython3",
   "version": "3.10.6"
  },
  "vscode": {
   "interpreter": {
    "hash": "6cf8df3ff69f85f626faf55c10df6fe2cb9d1236b4dc73844ee4dc01369c2c99"
   }
  }
 },
 "nbformat": 4,
 "nbformat_minor": 5
}
